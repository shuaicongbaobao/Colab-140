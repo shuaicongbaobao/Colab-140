{
  "nbformat": 4,
  "nbformat_minor": 0,
  "metadata": {
    "colab": {
      "provenance": [],
      "gpuType": "T4",
      "authorship_tag": "ABX9TyOkZm5zoesdt36eXNyrVh2M",
      "include_colab_link": true
    },
    "kernelspec": {
      "name": "python3",
      "display_name": "Python 3"
    },
    "language_info": {
      "name": "python"
    },
    "accelerator": "GPU"
  },
  "cells": [
    {
      "cell_type": "markdown",
      "metadata": {
        "id": "view-in-github",
        "colab_type": "text"
      },
      "source": [
        "<a href=\"https://colab.research.google.com/github/shuaicongbaobao/Colab-140/blob/main/assignment1.ipynb\" target=\"_parent\"><img src=\"https://colab.research.google.com/assets/colab-badge.svg\" alt=\"Open In Colab\"/></a>"
      ]
    },
    {
      "cell_type": "code",
      "execution_count": null,
      "metadata": {
        "id": "7ZjSn0H45Rjg"
      },
      "outputs": [],
      "source": [
        "import torch\n",
        "from torch import nn\n",
        "from torch import optim\n",
        "from torchvision import datasets, transforms\n",
        "from torch.utils.data import random_split,DataLoader"
      ]
    },
    {
      "cell_type": "code",
      "source": [
        "torch.rand(5).cuda()"
      ],
      "metadata": {
        "colab": {
          "base_uri": "https://localhost:8080/"
        },
        "id": "m-toe8TtN6Nd",
        "outputId": "c00328cd-340d-4d35-e5aa-50b06f5bcebe"
      },
      "execution_count": null,
      "outputs": [
        {
          "output_type": "execute_result",
          "data": {
            "text/plain": [
              "tensor([0.7379, 0.6879, 0.6424, 0.0183, 0.0643], device='cuda:0')"
            ]
          },
          "metadata": {},
          "execution_count": 3
        }
      ]
    },
    {
      "cell_type": "code",
      "source": [
        "#Define model\n",
        "model = nn.Sequential(\n",
        "    nn.Linear(28 * 28,64),\n",
        "    nn.ReLU(),\n",
        "    nn.Linear(64,64),\n",
        "    nn.ReLU(),\n",
        "    nn.Dropout(0,1),\n",
        "    nn.Linear(64,10)\n",
        ")\n"
      ],
      "metadata": {
        "id": "8wo1JZb-5blh"
      },
      "execution_count": null,
      "outputs": []
    },
    {
      "cell_type": "code",
      "source": [
        "#Define optimizer\n",
        "params = model.parameters()\n",
        "optimiser=optim.SGD(model.parameters(),lr=1e-2)"
      ],
      "metadata": {
        "id": "VY-bpwf060b1"
      },
      "execution_count": null,
      "outputs": []
    },
    {
      "cell_type": "code",
      "source": [
        "#Define my loss\n",
        "loss=nn.CrossEntropyLoss()"
      ],
      "metadata": {
        "id": "flwaGdNd7Gbn"
      },
      "execution_count": null,
      "outputs": []
    },
    {
      "cell_type": "code",
      "source": [
        "train_data= datasets.MNIST('data',train=True, download=False, transform=transforms.ToTensor())\n",
        "train, val=random_split(train_data, [55000,5000])\n",
        "train_loader=DataLoader(train, batch_size=32)\n",
        "val_loader=DataLoader(val, batch_size=32)"
      ],
      "metadata": {
        "id": "4elhrsEWFYKi"
      },
      "execution_count": null,
      "outputs": []
    },
    {
      "cell_type": "markdown",
      "source": [],
      "metadata": {
        "id": "457QI6I86rIg"
      }
    },
    {
      "cell_type": "code",
      "source": [
        "#my training and validation loops\n",
        "nb_epochs=5\n",
        "for epoch in range(nb_epochs):\n",
        "  losses=list()\n",
        "  accuracies=list()\n",
        "  model.train()\n",
        "  for batch in train_loader:\n",
        "    x,y=batch\n",
        "\n",
        "    #x:batch size*1*28*28-convert to long vector-a matrix\n",
        "    b=x.size(0)\n",
        "    x=x.view(b,-1)\n",
        "\n",
        "    #1 forward\n",
        "    l = model(x) #1: logits\n",
        "    #2 compute the objective function; high loss is not good\n",
        "    J=loss(l,y)\n",
        "    #3 cleaning the gradient\n",
        "    model.zero_grad()\n",
        "    #4 accumulate the partial derivatives of J with respect to the parameters\n",
        "    J.backward()\n",
        "    #params.grad\n",
        "    #5 step in the opposite direction of the gradient\n",
        "    optimiser.step()\n",
        "    #with torch.no_grad(): params=params-eta*params.grad\n",
        "    losses.append(J.item())\n",
        "    accuracies.append(y.eq(l.detach().argmax(dim=1)).float().mean())\n",
        "\n",
        "    print(f'Epoch {epoch + 1}', end=',')\n",
        "    print(f' validation loss:{torch.tensor(losses).mean():.2f}',end='')\n",
        "    print(f'validation accuracy:{torch.tensor(accuracies).mean():.2f}')\n",
        "\n",
        "\n",
        "    losses=list()\n",
        "    accuracies=list()\n",
        "    model.eval()\n",
        "    for batch in val_loader:\n",
        "        x,y=batch\n",
        "\n",
        "    #x:batch size*1*28*28-convert to long vector-a matrix\n",
        "    b=x.size(0)\n",
        "    x= x.view(b,-1)\n",
        "\n",
        "    #1 forward\n",
        "    with torch.no_grad():\n",
        "        l = model(x)\n",
        "    #2 compute the objective function; high loss is not good\n",
        "    J=loss(l,y)\n",
        "\n",
        "    losses.append(J.item())\n",
        "    accuracies.append(y.eq(l.detach().argmax(dim=1)).float().mean())\n",
        "\n",
        "    print(f'Epoch {epoch + 1}', end=',')\n",
        "    print(f' validation loss:{torch.tensor(losses).mean():.2f}',end='')\n",
        "    print(f'validation accuracy:{torch.tensor(accuracies).mean():.2f}')\n"
      ],
      "metadata": {
        "colab": {
          "base_uri": "https://localhost:8080/",
          "height": 1000
        },
        "id": "4_FlQlV77PWY",
        "outputId": "3abb4d7b-ce96-42eb-c2f5-10725bf8082f"
      },
      "execution_count": null,
      "outputs": [
        {
          "output_type": "stream",
          "name": "stdout",
          "text": [
            "Epoch 1, validation loss:0.91validation accuracy:0.81\n",
            "Epoch 1, validation loss:1.41validation accuracy:0.62\n",
            "Epoch 1, validation loss:1.16validation accuracy:0.73\n",
            "Epoch 1, validation loss:1.42validation accuracy:0.62\n",
            "Epoch 1, validation loss:1.16validation accuracy:0.73\n",
            "Epoch 1, validation loss:1.41validation accuracy:0.62\n",
            "Epoch 1, validation loss:1.12validation accuracy:0.73\n",
            "Epoch 1, validation loss:1.40validation accuracy:0.62\n",
            "Epoch 1, validation loss:1.18validation accuracy:0.73\n",
            "Epoch 1, validation loss:1.37validation accuracy:0.62\n",
            "Epoch 1, validation loss:1.11validation accuracy:0.70\n",
            "Epoch 1, validation loss:1.38validation accuracy:0.62\n",
            "Epoch 1, validation loss:1.10validation accuracy:0.77\n",
            "Epoch 1, validation loss:1.38validation accuracy:0.62\n",
            "Epoch 1, validation loss:1.08validation accuracy:0.75\n",
            "Epoch 1, validation loss:1.39validation accuracy:0.62\n",
            "Epoch 1, validation loss:1.13validation accuracy:0.73\n",
            "Epoch 1, validation loss:1.38validation accuracy:0.62\n",
            "Epoch 1, validation loss:1.20validation accuracy:0.67\n",
            "Epoch 1, validation loss:1.38validation accuracy:0.62\n",
            "Epoch 1, validation loss:1.18validation accuracy:0.72\n",
            "Epoch 1, validation loss:1.38validation accuracy:0.62\n",
            "Epoch 1, validation loss:1.15validation accuracy:0.72\n",
            "Epoch 1, validation loss:1.37validation accuracy:0.62\n",
            "Epoch 1, validation loss:1.14validation accuracy:0.73\n",
            "Epoch 1, validation loss:1.35validation accuracy:0.62\n",
            "Epoch 1, validation loss:1.12validation accuracy:0.70\n",
            "Epoch 1, validation loss:1.37validation accuracy:0.62\n",
            "Epoch 1, validation loss:1.20validation accuracy:0.67\n",
            "Epoch 1, validation loss:1.39validation accuracy:0.62\n",
            "Epoch 1, validation loss:1.12validation accuracy:0.77\n",
            "Epoch 1, validation loss:1.39validation accuracy:0.62\n",
            "Epoch 1, validation loss:1.17validation accuracy:0.70\n",
            "Epoch 1, validation loss:1.41validation accuracy:0.62\n",
            "Epoch 1, validation loss:1.05validation accuracy:0.77\n",
            "Epoch 1, validation loss:1.42validation accuracy:0.62\n",
            "Epoch 1, validation loss:1.15validation accuracy:0.75\n",
            "Epoch 1, validation loss:1.42validation accuracy:0.50\n",
            "Epoch 1, validation loss:1.26validation accuracy:0.61\n",
            "Epoch 1, validation loss:1.42validation accuracy:0.75\n",
            "Epoch 1, validation loss:1.13validation accuracy:0.77\n",
            "Epoch 1, validation loss:1.39validation accuracy:0.75\n",
            "Epoch 1, validation loss:1.09validation accuracy:0.80\n",
            "Epoch 1, validation loss:1.38validation accuracy:0.75\n",
            "Epoch 1, validation loss:1.14validation accuracy:0.77\n",
            "Epoch 1, validation loss:1.39validation accuracy:0.75\n",
            "Epoch 1, validation loss:1.23validation accuracy:0.73\n",
            "Epoch 1, validation loss:1.41validation accuracy:0.75\n",
            "Epoch 1, validation loss:1.12validation accuracy:0.80\n",
            "Epoch 1, validation loss:1.41validation accuracy:0.75\n",
            "Epoch 1, validation loss:1.14validation accuracy:0.81\n",
            "Epoch 1, validation loss:1.41validation accuracy:0.75\n",
            "Epoch 1, validation loss:1.10validation accuracy:0.81\n",
            "Epoch 1, validation loss:1.42validation accuracy:0.75\n",
            "Epoch 1, validation loss:1.20validation accuracy:0.77\n",
            "Epoch 1, validation loss:1.42validation accuracy:0.50\n",
            "Epoch 1, validation loss:1.07validation accuracy:0.72\n",
            "Epoch 1, validation loss:1.44validation accuracy:0.50\n",
            "Epoch 1, validation loss:1.10validation accuracy:0.67\n",
            "Epoch 1, validation loss:1.44validation accuracy:0.50\n",
            "Epoch 1, validation loss:1.30validation accuracy:0.64\n",
            "Epoch 1, validation loss:1.45validation accuracy:0.50\n",
            "Epoch 1, validation loss:1.11validation accuracy:0.69\n",
            "Epoch 1, validation loss:1.46validation accuracy:0.50\n",
            "Epoch 1, validation loss:1.10validation accuracy:0.70\n",
            "Epoch 1, validation loss:1.47validation accuracy:0.50\n",
            "Epoch 1, validation loss:1.22validation accuracy:0.64\n",
            "Epoch 1, validation loss:1.47validation accuracy:0.38\n",
            "Epoch 1, validation loss:1.18validation accuracy:0.58\n",
            "Epoch 1, validation loss:1.48validation accuracy:0.50\n",
            "Epoch 1, validation loss:1.04validation accuracy:0.72\n",
            "Epoch 1, validation loss:1.47validation accuracy:0.50\n",
            "Epoch 1, validation loss:1.16validation accuracy:0.64\n",
            "Epoch 1, validation loss:1.45validation accuracy:0.50\n",
            "Epoch 1, validation loss:1.17validation accuracy:0.67\n",
            "Epoch 1, validation loss:1.45validation accuracy:0.50\n",
            "Epoch 1, validation loss:1.12validation accuracy:0.69\n",
            "Epoch 1, validation loss:1.42validation accuracy:0.50\n",
            "Epoch 1, validation loss:1.15validation accuracy:0.64\n",
            "Epoch 1, validation loss:1.43validation accuracy:0.50\n",
            "Epoch 1, validation loss:1.10validation accuracy:0.62\n",
            "Epoch 1, validation loss:1.42validation accuracy:0.50\n",
            "Epoch 1, validation loss:1.14validation accuracy:0.66\n",
            "Epoch 1, validation loss:1.41validation accuracy:0.50\n",
            "Epoch 1, validation loss:1.19validation accuracy:0.64\n",
            "Epoch 1, validation loss:1.42validation accuracy:0.50\n",
            "Epoch 1, validation loss:1.21validation accuracy:0.61\n",
            "Epoch 1, validation loss:1.40validation accuracy:0.62\n",
            "Epoch 1, validation loss:1.15validation accuracy:0.73\n",
            "Epoch 1, validation loss:1.40validation accuracy:0.62\n",
            "Epoch 1, validation loss:1.20validation accuracy:0.69\n",
            "Epoch 1, validation loss:1.38validation accuracy:0.62\n",
            "Epoch 1, validation loss:1.15validation accuracy:0.69\n",
            "Epoch 1, validation loss:1.36validation accuracy:0.62\n",
            "Epoch 1, validation loss:1.13validation accuracy:0.73\n",
            "Epoch 1, validation loss:1.35validation accuracy:0.62\n",
            "Epoch 1, validation loss:1.11validation accuracy:0.75\n",
            "Epoch 1, validation loss:1.37validation accuracy:0.50\n",
            "Epoch 1, validation loss:1.09validation accuracy:0.64\n",
            "Epoch 1, validation loss:1.36validation accuracy:0.50\n",
            "Epoch 1, validation loss:1.12validation accuracy:0.62\n",
            "Epoch 1, validation loss:1.38validation accuracy:0.50\n",
            "Epoch 1, validation loss:1.16validation accuracy:0.66\n",
            "Epoch 1, validation loss:1.39validation accuracy:0.62\n",
            "Epoch 1, validation loss:1.10validation accuracy:0.75\n",
            "Epoch 1, validation loss:1.38validation accuracy:0.50\n",
            "Epoch 1, validation loss:1.17validation accuracy:0.62\n",
            "Epoch 1, validation loss:1.36validation accuracy:0.50\n",
            "Epoch 1, validation loss:1.12validation accuracy:0.66\n",
            "Epoch 1, validation loss:1.37validation accuracy:0.62\n",
            "Epoch 1, validation loss:1.26validation accuracy:0.64\n",
            "Epoch 1, validation loss:1.37validation accuracy:0.62\n",
            "Epoch 1, validation loss:1.05validation accuracy:0.72\n",
            "Epoch 1, validation loss:1.38validation accuracy:0.62\n",
            "Epoch 1, validation loss:1.09validation accuracy:0.73\n",
            "Epoch 1, validation loss:1.35validation accuracy:0.62\n",
            "Epoch 1, validation loss:1.06validation accuracy:0.73\n",
            "Epoch 1, validation loss:1.38validation accuracy:0.62\n",
            "Epoch 1, validation loss:1.12validation accuracy:0.70\n",
            "Epoch 1, validation loss:1.38validation accuracy:0.62\n",
            "Epoch 1, validation loss:1.06validation accuracy:0.72\n",
            "Epoch 1, validation loss:1.37validation accuracy:0.62\n",
            "Epoch 1, validation loss:1.05validation accuracy:0.73\n",
            "Epoch 1, validation loss:1.37validation accuracy:0.62\n",
            "Epoch 1, validation loss:1.14validation accuracy:0.73\n",
            "Epoch 1, validation loss:1.35validation accuracy:0.62\n",
            "Epoch 1, validation loss:1.10validation accuracy:0.77\n",
            "Epoch 1, validation loss:1.36validation accuracy:0.62\n",
            "Epoch 1, validation loss:1.11validation accuracy:0.67\n",
            "Epoch 1, validation loss:1.35validation accuracy:0.62\n",
            "Epoch 1, validation loss:1.10validation accuracy:0.70\n",
            "Epoch 1, validation loss:1.33validation accuracy:0.75\n",
            "Epoch 1, validation loss:0.97validation accuracy:0.83\n",
            "Epoch 1, validation loss:1.30validation accuracy:0.75\n",
            "Epoch 1, validation loss:1.11validation accuracy:0.72\n",
            "Epoch 1, validation loss:1.31validation accuracy:0.75\n",
            "Epoch 1, validation loss:1.00validation accuracy:0.83\n",
            "Epoch 1, validation loss:1.32validation accuracy:0.75\n",
            "Epoch 1, validation loss:1.09validation accuracy:0.77\n",
            "Epoch 1, validation loss:1.35validation accuracy:0.62\n",
            "Epoch 1, validation loss:1.18validation accuracy:0.67\n",
            "Epoch 1, validation loss:1.35validation accuracy:0.50\n",
            "Epoch 1, validation loss:1.07validation accuracy:0.66\n",
            "Epoch 1, validation loss:1.33validation accuracy:0.62\n",
            "Epoch 1, validation loss:1.08validation accuracy:0.72\n",
            "Epoch 1, validation loss:1.32validation accuracy:0.62\n",
            "Epoch 1, validation loss:1.09validation accuracy:0.69\n",
            "Epoch 1, validation loss:1.34validation accuracy:0.50\n",
            "Epoch 1, validation loss:1.20validation accuracy:0.56\n",
            "Epoch 1, validation loss:1.34validation accuracy:0.50\n",
            "Epoch 1, validation loss:1.05validation accuracy:0.70\n",
            "Epoch 1, validation loss:1.33validation accuracy:0.50\n",
            "Epoch 1, validation loss:1.19validation accuracy:0.64\n"
          ]
        },
        {
          "output_type": "error",
          "ename": "KeyboardInterrupt",
          "evalue": "",
          "traceback": [
            "\u001b[0;31m---------------------------------------------------------------------------\u001b[0m",
            "\u001b[0;31mKeyboardInterrupt\u001b[0m                         Traceback (most recent call last)",
            "\u001b[0;32m<ipython-input-48-3988057b7db1>\u001b[0m in \u001b[0;36m<cell line: 3>\u001b[0;34m()\u001b[0m\n\u001b[1;32m     35\u001b[0m     \u001b[0maccuracies\u001b[0m\u001b[0;34m=\u001b[0m\u001b[0mlist\u001b[0m\u001b[0;34m(\u001b[0m\u001b[0;34m)\u001b[0m\u001b[0;34m\u001b[0m\u001b[0;34m\u001b[0m\u001b[0m\n\u001b[1;32m     36\u001b[0m     \u001b[0mmodel\u001b[0m\u001b[0;34m.\u001b[0m\u001b[0meval\u001b[0m\u001b[0;34m(\u001b[0m\u001b[0;34m)\u001b[0m\u001b[0;34m\u001b[0m\u001b[0;34m\u001b[0m\u001b[0m\n\u001b[0;32m---> 37\u001b[0;31m     \u001b[0;32mfor\u001b[0m \u001b[0mbatch\u001b[0m \u001b[0;32min\u001b[0m \u001b[0mval_loader\u001b[0m\u001b[0;34m:\u001b[0m\u001b[0;34m\u001b[0m\u001b[0;34m\u001b[0m\u001b[0m\n\u001b[0m\u001b[1;32m     38\u001b[0m         \u001b[0mx\u001b[0m\u001b[0;34m,\u001b[0m\u001b[0my\u001b[0m\u001b[0;34m=\u001b[0m\u001b[0mbatch\u001b[0m\u001b[0;34m\u001b[0m\u001b[0;34m\u001b[0m\u001b[0m\n\u001b[1;32m     39\u001b[0m \u001b[0;34m\u001b[0m\u001b[0m\n",
            "\u001b[0;32m/usr/local/lib/python3.10/dist-packages/torch/utils/data/dataloader.py\u001b[0m in \u001b[0;36m__next__\u001b[0;34m(self)\u001b[0m\n\u001b[1;32m    628\u001b[0m                 \u001b[0;31m# TODO(https://github.com/pytorch/pytorch/issues/76750)\u001b[0m\u001b[0;34m\u001b[0m\u001b[0;34m\u001b[0m\u001b[0m\n\u001b[1;32m    629\u001b[0m                 \u001b[0mself\u001b[0m\u001b[0;34m.\u001b[0m\u001b[0m_reset\u001b[0m\u001b[0;34m(\u001b[0m\u001b[0;34m)\u001b[0m  \u001b[0;31m# type: ignore[call-arg]\u001b[0m\u001b[0;34m\u001b[0m\u001b[0;34m\u001b[0m\u001b[0m\n\u001b[0;32m--> 630\u001b[0;31m             \u001b[0mdata\u001b[0m \u001b[0;34m=\u001b[0m \u001b[0mself\u001b[0m\u001b[0;34m.\u001b[0m\u001b[0m_next_data\u001b[0m\u001b[0;34m(\u001b[0m\u001b[0;34m)\u001b[0m\u001b[0;34m\u001b[0m\u001b[0;34m\u001b[0m\u001b[0m\n\u001b[0m\u001b[1;32m    631\u001b[0m             \u001b[0mself\u001b[0m\u001b[0;34m.\u001b[0m\u001b[0m_num_yielded\u001b[0m \u001b[0;34m+=\u001b[0m \u001b[0;36m1\u001b[0m\u001b[0;34m\u001b[0m\u001b[0;34m\u001b[0m\u001b[0m\n\u001b[1;32m    632\u001b[0m             \u001b[0;32mif\u001b[0m \u001b[0mself\u001b[0m\u001b[0;34m.\u001b[0m\u001b[0m_dataset_kind\u001b[0m \u001b[0;34m==\u001b[0m \u001b[0m_DatasetKind\u001b[0m\u001b[0;34m.\u001b[0m\u001b[0mIterable\u001b[0m \u001b[0;32mand\u001b[0m\u001b[0;31m \u001b[0m\u001b[0;31m\\\u001b[0m\u001b[0;34m\u001b[0m\u001b[0;34m\u001b[0m\u001b[0m\n",
            "\u001b[0;32m/usr/local/lib/python3.10/dist-packages/torch/utils/data/dataloader.py\u001b[0m in \u001b[0;36m_next_data\u001b[0;34m(self)\u001b[0m\n\u001b[1;32m    672\u001b[0m     \u001b[0;32mdef\u001b[0m \u001b[0m_next_data\u001b[0m\u001b[0;34m(\u001b[0m\u001b[0mself\u001b[0m\u001b[0;34m)\u001b[0m\u001b[0;34m:\u001b[0m\u001b[0;34m\u001b[0m\u001b[0;34m\u001b[0m\u001b[0m\n\u001b[1;32m    673\u001b[0m         \u001b[0mindex\u001b[0m \u001b[0;34m=\u001b[0m \u001b[0mself\u001b[0m\u001b[0;34m.\u001b[0m\u001b[0m_next_index\u001b[0m\u001b[0;34m(\u001b[0m\u001b[0;34m)\u001b[0m  \u001b[0;31m# may raise StopIteration\u001b[0m\u001b[0;34m\u001b[0m\u001b[0;34m\u001b[0m\u001b[0m\n\u001b[0;32m--> 674\u001b[0;31m         \u001b[0mdata\u001b[0m \u001b[0;34m=\u001b[0m \u001b[0mself\u001b[0m\u001b[0;34m.\u001b[0m\u001b[0m_dataset_fetcher\u001b[0m\u001b[0;34m.\u001b[0m\u001b[0mfetch\u001b[0m\u001b[0;34m(\u001b[0m\u001b[0mindex\u001b[0m\u001b[0;34m)\u001b[0m  \u001b[0;31m# may raise StopIteration\u001b[0m\u001b[0;34m\u001b[0m\u001b[0;34m\u001b[0m\u001b[0m\n\u001b[0m\u001b[1;32m    675\u001b[0m         \u001b[0;32mif\u001b[0m \u001b[0mself\u001b[0m\u001b[0;34m.\u001b[0m\u001b[0m_pin_memory\u001b[0m\u001b[0;34m:\u001b[0m\u001b[0;34m\u001b[0m\u001b[0;34m\u001b[0m\u001b[0m\n\u001b[1;32m    676\u001b[0m             \u001b[0mdata\u001b[0m \u001b[0;34m=\u001b[0m \u001b[0m_utils\u001b[0m\u001b[0;34m.\u001b[0m\u001b[0mpin_memory\u001b[0m\u001b[0;34m.\u001b[0m\u001b[0mpin_memory\u001b[0m\u001b[0;34m(\u001b[0m\u001b[0mdata\u001b[0m\u001b[0;34m,\u001b[0m \u001b[0mself\u001b[0m\u001b[0;34m.\u001b[0m\u001b[0m_pin_memory_device\u001b[0m\u001b[0;34m)\u001b[0m\u001b[0;34m\u001b[0m\u001b[0;34m\u001b[0m\u001b[0m\n",
            "\u001b[0;32m/usr/local/lib/python3.10/dist-packages/torch/utils/data/_utils/fetch.py\u001b[0m in \u001b[0;36mfetch\u001b[0;34m(self, possibly_batched_index)\u001b[0m\n\u001b[1;32m     47\u001b[0m         \u001b[0;32mif\u001b[0m \u001b[0mself\u001b[0m\u001b[0;34m.\u001b[0m\u001b[0mauto_collation\u001b[0m\u001b[0;34m:\u001b[0m\u001b[0;34m\u001b[0m\u001b[0;34m\u001b[0m\u001b[0m\n\u001b[1;32m     48\u001b[0m             \u001b[0;32mif\u001b[0m \u001b[0mhasattr\u001b[0m\u001b[0;34m(\u001b[0m\u001b[0mself\u001b[0m\u001b[0;34m.\u001b[0m\u001b[0mdataset\u001b[0m\u001b[0;34m,\u001b[0m \u001b[0;34m\"__getitems__\"\u001b[0m\u001b[0;34m)\u001b[0m \u001b[0;32mand\u001b[0m \u001b[0mself\u001b[0m\u001b[0;34m.\u001b[0m\u001b[0mdataset\u001b[0m\u001b[0;34m.\u001b[0m\u001b[0m__getitems__\u001b[0m\u001b[0;34m:\u001b[0m\u001b[0;34m\u001b[0m\u001b[0;34m\u001b[0m\u001b[0m\n\u001b[0;32m---> 49\u001b[0;31m                 \u001b[0mdata\u001b[0m \u001b[0;34m=\u001b[0m \u001b[0mself\u001b[0m\u001b[0;34m.\u001b[0m\u001b[0mdataset\u001b[0m\u001b[0;34m.\u001b[0m\u001b[0m__getitems__\u001b[0m\u001b[0;34m(\u001b[0m\u001b[0mpossibly_batched_index\u001b[0m\u001b[0;34m)\u001b[0m\u001b[0;34m\u001b[0m\u001b[0;34m\u001b[0m\u001b[0m\n\u001b[0m\u001b[1;32m     50\u001b[0m             \u001b[0;32melse\u001b[0m\u001b[0;34m:\u001b[0m\u001b[0;34m\u001b[0m\u001b[0;34m\u001b[0m\u001b[0m\n\u001b[1;32m     51\u001b[0m                 \u001b[0mdata\u001b[0m \u001b[0;34m=\u001b[0m \u001b[0;34m[\u001b[0m\u001b[0mself\u001b[0m\u001b[0;34m.\u001b[0m\u001b[0mdataset\u001b[0m\u001b[0;34m[\u001b[0m\u001b[0midx\u001b[0m\u001b[0;34m]\u001b[0m \u001b[0;32mfor\u001b[0m \u001b[0midx\u001b[0m \u001b[0;32min\u001b[0m \u001b[0mpossibly_batched_index\u001b[0m\u001b[0;34m]\u001b[0m\u001b[0;34m\u001b[0m\u001b[0;34m\u001b[0m\u001b[0m\n",
            "\u001b[0;32m/usr/local/lib/python3.10/dist-packages/torch/utils/data/dataset.py\u001b[0m in \u001b[0;36m__getitems__\u001b[0;34m(self, indices)\u001b[0m\n\u001b[1;32m    362\u001b[0m             \u001b[0;32mreturn\u001b[0m \u001b[0mself\u001b[0m\u001b[0;34m.\u001b[0m\u001b[0mdataset\u001b[0m\u001b[0;34m.\u001b[0m\u001b[0m__getitems__\u001b[0m\u001b[0;34m(\u001b[0m\u001b[0;34m[\u001b[0m\u001b[0mself\u001b[0m\u001b[0;34m.\u001b[0m\u001b[0mindices\u001b[0m\u001b[0;34m[\u001b[0m\u001b[0midx\u001b[0m\u001b[0;34m]\u001b[0m \u001b[0;32mfor\u001b[0m \u001b[0midx\u001b[0m \u001b[0;32min\u001b[0m \u001b[0mindices\u001b[0m\u001b[0;34m]\u001b[0m\u001b[0;34m)\u001b[0m  \u001b[0;31m# type: ignore[attr-defined]\u001b[0m\u001b[0;34m\u001b[0m\u001b[0;34m\u001b[0m\u001b[0m\n\u001b[1;32m    363\u001b[0m         \u001b[0;32melse\u001b[0m\u001b[0;34m:\u001b[0m\u001b[0;34m\u001b[0m\u001b[0;34m\u001b[0m\u001b[0m\n\u001b[0;32m--> 364\u001b[0;31m             \u001b[0;32mreturn\u001b[0m \u001b[0;34m[\u001b[0m\u001b[0mself\u001b[0m\u001b[0;34m.\u001b[0m\u001b[0mdataset\u001b[0m\u001b[0;34m[\u001b[0m\u001b[0mself\u001b[0m\u001b[0;34m.\u001b[0m\u001b[0mindices\u001b[0m\u001b[0;34m[\u001b[0m\u001b[0midx\u001b[0m\u001b[0;34m]\u001b[0m\u001b[0;34m]\u001b[0m \u001b[0;32mfor\u001b[0m \u001b[0midx\u001b[0m \u001b[0;32min\u001b[0m \u001b[0mindices\u001b[0m\u001b[0;34m]\u001b[0m\u001b[0;34m\u001b[0m\u001b[0;34m\u001b[0m\u001b[0m\n\u001b[0m\u001b[1;32m    365\u001b[0m \u001b[0;34m\u001b[0m\u001b[0m\n\u001b[1;32m    366\u001b[0m     \u001b[0;32mdef\u001b[0m \u001b[0m__len__\u001b[0m\u001b[0;34m(\u001b[0m\u001b[0mself\u001b[0m\u001b[0;34m)\u001b[0m\u001b[0;34m:\u001b[0m\u001b[0;34m\u001b[0m\u001b[0;34m\u001b[0m\u001b[0m\n",
            "\u001b[0;32m/usr/local/lib/python3.10/dist-packages/torch/utils/data/dataset.py\u001b[0m in \u001b[0;36m<listcomp>\u001b[0;34m(.0)\u001b[0m\n\u001b[1;32m    362\u001b[0m             \u001b[0;32mreturn\u001b[0m \u001b[0mself\u001b[0m\u001b[0;34m.\u001b[0m\u001b[0mdataset\u001b[0m\u001b[0;34m.\u001b[0m\u001b[0m__getitems__\u001b[0m\u001b[0;34m(\u001b[0m\u001b[0;34m[\u001b[0m\u001b[0mself\u001b[0m\u001b[0;34m.\u001b[0m\u001b[0mindices\u001b[0m\u001b[0;34m[\u001b[0m\u001b[0midx\u001b[0m\u001b[0;34m]\u001b[0m \u001b[0;32mfor\u001b[0m \u001b[0midx\u001b[0m \u001b[0;32min\u001b[0m \u001b[0mindices\u001b[0m\u001b[0;34m]\u001b[0m\u001b[0;34m)\u001b[0m  \u001b[0;31m# type: ignore[attr-defined]\u001b[0m\u001b[0;34m\u001b[0m\u001b[0;34m\u001b[0m\u001b[0m\n\u001b[1;32m    363\u001b[0m         \u001b[0;32melse\u001b[0m\u001b[0;34m:\u001b[0m\u001b[0;34m\u001b[0m\u001b[0;34m\u001b[0m\u001b[0m\n\u001b[0;32m--> 364\u001b[0;31m             \u001b[0;32mreturn\u001b[0m \u001b[0;34m[\u001b[0m\u001b[0mself\u001b[0m\u001b[0;34m.\u001b[0m\u001b[0mdataset\u001b[0m\u001b[0;34m[\u001b[0m\u001b[0mself\u001b[0m\u001b[0;34m.\u001b[0m\u001b[0mindices\u001b[0m\u001b[0;34m[\u001b[0m\u001b[0midx\u001b[0m\u001b[0;34m]\u001b[0m\u001b[0;34m]\u001b[0m \u001b[0;32mfor\u001b[0m \u001b[0midx\u001b[0m \u001b[0;32min\u001b[0m \u001b[0mindices\u001b[0m\u001b[0;34m]\u001b[0m\u001b[0;34m\u001b[0m\u001b[0;34m\u001b[0m\u001b[0m\n\u001b[0m\u001b[1;32m    365\u001b[0m \u001b[0;34m\u001b[0m\u001b[0m\n\u001b[1;32m    366\u001b[0m     \u001b[0;32mdef\u001b[0m \u001b[0m__len__\u001b[0m\u001b[0;34m(\u001b[0m\u001b[0mself\u001b[0m\u001b[0;34m)\u001b[0m\u001b[0;34m:\u001b[0m\u001b[0;34m\u001b[0m\u001b[0;34m\u001b[0m\u001b[0m\n",
            "\u001b[0;32m/usr/local/lib/python3.10/dist-packages/torchvision/datasets/mnist.py\u001b[0m in \u001b[0;36m__getitem__\u001b[0;34m(self, index)\u001b[0m\n\u001b[1;32m    143\u001b[0m \u001b[0;34m\u001b[0m\u001b[0m\n\u001b[1;32m    144\u001b[0m         \u001b[0;32mif\u001b[0m \u001b[0mself\u001b[0m\u001b[0;34m.\u001b[0m\u001b[0mtransform\u001b[0m \u001b[0;32mis\u001b[0m \u001b[0;32mnot\u001b[0m \u001b[0;32mNone\u001b[0m\u001b[0;34m:\u001b[0m\u001b[0;34m\u001b[0m\u001b[0;34m\u001b[0m\u001b[0m\n\u001b[0;32m--> 145\u001b[0;31m             \u001b[0mimg\u001b[0m \u001b[0;34m=\u001b[0m \u001b[0mself\u001b[0m\u001b[0;34m.\u001b[0m\u001b[0mtransform\u001b[0m\u001b[0;34m(\u001b[0m\u001b[0mimg\u001b[0m\u001b[0;34m)\u001b[0m\u001b[0;34m\u001b[0m\u001b[0;34m\u001b[0m\u001b[0m\n\u001b[0m\u001b[1;32m    146\u001b[0m \u001b[0;34m\u001b[0m\u001b[0m\n\u001b[1;32m    147\u001b[0m         \u001b[0;32mif\u001b[0m \u001b[0mself\u001b[0m\u001b[0;34m.\u001b[0m\u001b[0mtarget_transform\u001b[0m \u001b[0;32mis\u001b[0m \u001b[0;32mnot\u001b[0m \u001b[0;32mNone\u001b[0m\u001b[0;34m:\u001b[0m\u001b[0;34m\u001b[0m\u001b[0;34m\u001b[0m\u001b[0m\n",
            "\u001b[0;32m/usr/local/lib/python3.10/dist-packages/torchvision/transforms/transforms.py\u001b[0m in \u001b[0;36m__call__\u001b[0;34m(self, pic)\u001b[0m\n\u001b[1;32m    135\u001b[0m             \u001b[0mTensor\u001b[0m\u001b[0;34m:\u001b[0m \u001b[0mConverted\u001b[0m \u001b[0mimage\u001b[0m\u001b[0;34m.\u001b[0m\u001b[0;34m\u001b[0m\u001b[0;34m\u001b[0m\u001b[0m\n\u001b[1;32m    136\u001b[0m         \"\"\"\n\u001b[0;32m--> 137\u001b[0;31m         \u001b[0;32mreturn\u001b[0m \u001b[0mF\u001b[0m\u001b[0;34m.\u001b[0m\u001b[0mto_tensor\u001b[0m\u001b[0;34m(\u001b[0m\u001b[0mpic\u001b[0m\u001b[0;34m)\u001b[0m\u001b[0;34m\u001b[0m\u001b[0;34m\u001b[0m\u001b[0m\n\u001b[0m\u001b[1;32m    138\u001b[0m \u001b[0;34m\u001b[0m\u001b[0m\n\u001b[1;32m    139\u001b[0m     \u001b[0;32mdef\u001b[0m \u001b[0m__repr__\u001b[0m\u001b[0;34m(\u001b[0m\u001b[0mself\u001b[0m\u001b[0;34m)\u001b[0m \u001b[0;34m->\u001b[0m \u001b[0mstr\u001b[0m\u001b[0;34m:\u001b[0m\u001b[0;34m\u001b[0m\u001b[0;34m\u001b[0m\u001b[0m\n",
            "\u001b[0;32m/usr/local/lib/python3.10/dist-packages/torchvision/transforms/functional.py\u001b[0m in \u001b[0;36mto_tensor\u001b[0;34m(pic)\u001b[0m\n\u001b[1;32m    164\u001b[0m     \u001b[0;31m# handle PIL Image\u001b[0m\u001b[0;34m\u001b[0m\u001b[0;34m\u001b[0m\u001b[0m\n\u001b[1;32m    165\u001b[0m     \u001b[0mmode_to_nptype\u001b[0m \u001b[0;34m=\u001b[0m \u001b[0;34m{\u001b[0m\u001b[0;34m\"I\"\u001b[0m\u001b[0;34m:\u001b[0m \u001b[0mnp\u001b[0m\u001b[0;34m.\u001b[0m\u001b[0mint32\u001b[0m\u001b[0;34m,\u001b[0m \u001b[0;34m\"I;16\"\u001b[0m\u001b[0;34m:\u001b[0m \u001b[0mnp\u001b[0m\u001b[0;34m.\u001b[0m\u001b[0mint16\u001b[0m\u001b[0;34m,\u001b[0m \u001b[0;34m\"F\"\u001b[0m\u001b[0;34m:\u001b[0m \u001b[0mnp\u001b[0m\u001b[0;34m.\u001b[0m\u001b[0mfloat32\u001b[0m\u001b[0;34m}\u001b[0m\u001b[0;34m\u001b[0m\u001b[0;34m\u001b[0m\u001b[0m\n\u001b[0;32m--> 166\u001b[0;31m     \u001b[0mimg\u001b[0m \u001b[0;34m=\u001b[0m \u001b[0mtorch\u001b[0m\u001b[0;34m.\u001b[0m\u001b[0mfrom_numpy\u001b[0m\u001b[0;34m(\u001b[0m\u001b[0mnp\u001b[0m\u001b[0;34m.\u001b[0m\u001b[0marray\u001b[0m\u001b[0;34m(\u001b[0m\u001b[0mpic\u001b[0m\u001b[0;34m,\u001b[0m \u001b[0mmode_to_nptype\u001b[0m\u001b[0;34m.\u001b[0m\u001b[0mget\u001b[0m\u001b[0;34m(\u001b[0m\u001b[0mpic\u001b[0m\u001b[0;34m.\u001b[0m\u001b[0mmode\u001b[0m\u001b[0;34m,\u001b[0m \u001b[0mnp\u001b[0m\u001b[0;34m.\u001b[0m\u001b[0muint8\u001b[0m\u001b[0;34m)\u001b[0m\u001b[0;34m,\u001b[0m \u001b[0mcopy\u001b[0m\u001b[0;34m=\u001b[0m\u001b[0;32mTrue\u001b[0m\u001b[0;34m)\u001b[0m\u001b[0;34m)\u001b[0m\u001b[0;34m\u001b[0m\u001b[0;34m\u001b[0m\u001b[0m\n\u001b[0m\u001b[1;32m    167\u001b[0m \u001b[0;34m\u001b[0m\u001b[0m\n\u001b[1;32m    168\u001b[0m     \u001b[0;32mif\u001b[0m \u001b[0mpic\u001b[0m\u001b[0;34m.\u001b[0m\u001b[0mmode\u001b[0m \u001b[0;34m==\u001b[0m \u001b[0;34m\"1\"\u001b[0m\u001b[0;34m:\u001b[0m\u001b[0;34m\u001b[0m\u001b[0;34m\u001b[0m\u001b[0m\n",
            "\u001b[0;32m/usr/local/lib/python3.10/dist-packages/PIL/Image.py\u001b[0m in \u001b[0;36m__array_interface__\u001b[0;34m(self)\u001b[0m\n\u001b[1;32m    685\u001b[0m         \u001b[0;32mreturn\u001b[0m \u001b[0mb\u001b[0m\u001b[0;34m.\u001b[0m\u001b[0mgetvalue\u001b[0m\u001b[0;34m(\u001b[0m\u001b[0;34m)\u001b[0m\u001b[0;34m\u001b[0m\u001b[0;34m\u001b[0m\u001b[0m\n\u001b[1;32m    686\u001b[0m \u001b[0;34m\u001b[0m\u001b[0m\n\u001b[0;32m--> 687\u001b[0;31m     \u001b[0;34m@\u001b[0m\u001b[0mproperty\u001b[0m\u001b[0;34m\u001b[0m\u001b[0;34m\u001b[0m\u001b[0m\n\u001b[0m\u001b[1;32m    688\u001b[0m     \u001b[0;32mdef\u001b[0m \u001b[0m__array_interface__\u001b[0m\u001b[0;34m(\u001b[0m\u001b[0mself\u001b[0m\u001b[0;34m)\u001b[0m\u001b[0;34m:\u001b[0m\u001b[0;34m\u001b[0m\u001b[0;34m\u001b[0m\u001b[0m\n\u001b[1;32m    689\u001b[0m         \u001b[0;31m# numpy array interface support\u001b[0m\u001b[0;34m\u001b[0m\u001b[0;34m\u001b[0m\u001b[0m\n",
            "\u001b[0;31mKeyboardInterrupt\u001b[0m: "
          ]
        }
      ]
    }
  ]
}